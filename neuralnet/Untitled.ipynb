{
 "cells": [
  {
   "cell_type": "code",
   "execution_count": 5,
   "id": "7d6186d1-1ce8-4568-b39f-86f6753d2f27",
   "metadata": {},
   "outputs": [],
   "source": [
    "import numpy as np\n",
    "import pandas as pd\n",
    "import matplotlib.pyplot as plt\n",
    "from sklearn.model_selection import train_test_split\n",
    "from sklearn.preprocessing import StandardScaler\n",
    "import tensorflow as tf\n",
    "from imblearn.over_sampling import RandomOverSampler"
   ]
  },
  {
   "cell_type": "code",
   "execution_count": 7,
   "id": "b46efaa1-ef74-4cf0-98bd-722e679be2d6",
   "metadata": {},
   "outputs": [],
   "source": [
    "df=pd.read_csv(\"labeled_emails_active_learning.csv\")"
   ]
  },
  {
   "cell_type": "code",
   "execution_count": 8,
   "id": "90ead694-df1e-4694-a25f-1d9611a9039e",
   "metadata": {},
   "outputs": [
    {
     "data": {
      "text/plain": [
       "<bound method NDFrame.head of                                                   from  \\\n",
       "0    NDLI Account Activation <ndl-support@iitkgp.ac...   \n",
       "1       Radhika Patel <radhikapatel.it@charusat.ac.in>   \n",
       "2       Radhika Patel <radhikapatel.it@charusat.ac.in>   \n",
       "3    \"Gaurang Patel (Classroom)\" <no-reply@classroo...   \n",
       "4             LinkedIn <messages-noreply@linkedin.com>   \n",
       "..                                                 ...   \n",
       "480  Bhargav Shobhana <bhargavshobhana.cv@charusat....   \n",
       "481     Radhika Patel <radhikapatel.it@charusat.ac.in>   \n",
       "482         \"Coursera\" <Coursera@m.learn.coursera.org>   \n",
       "483                      Devpost <support@devpost.com>   \n",
       "484    Sports CHARUSAT <sports.officer@charusat.ac.in>   \n",
       "\n",
       "                                                    to  \\\n",
       "0                     Vansh <23dcs056@charusat.edu.in>   \n",
       "1    21dcse@charusat.edu.in, 22dcse@charusat.edu.in...   \n",
       "2    23dcse@charusat.edu.in, 23dce@charusat.edu.in,...   \n",
       "3                             23dcs056@charusat.edu.in   \n",
       "4              Vansh Malani <23dcs056@charusat.edu.in>   \n",
       "..                                                 ...   \n",
       "480                                                NaN   \n",
       "481  23dcse@charusat.edu.in, 23dce@charusat.edu.in,...   \n",
       "482                           23dcs056@charusat.edu.in   \n",
       "483                           23dcs056@charusat.edu.in   \n",
       "484                             family@charusat.edu.in   \n",
       "\n",
       "                                               subject  \\\n",
       "0                       NDLI user account verification   \n",
       "1    Regarding the collection of Marksheet (Odd ter...   \n",
       "2    Fwd: Join AI master series by SkillDzire in as...   \n",
       "3    =?UTF-8?Q?New_announcement=3A_=22Dear_students...   \n",
       "4                Kshitish Bhatt commented on your post   \n",
       "..                                                 ...   \n",
       "480         Important- Online Quiz of Civil Part ME145   \n",
       "481  Fwd: Engineering Physics - 2 (PY143) || Lab Ma...   \n",
       "482  NEW! AI content added to Professional Certific...   \n",
       "483  Level Up with Devpost's Discord Leaderboard Re...   \n",
       "484  Achievement in Khel Mahakumbh State level Taek...   \n",
       "\n",
       "                                      date  \\\n",
       "0    Thu, 18 Jul 2024 16:04:06 +0000 (UTC)   \n",
       "1          Thu, 18 Jul 2024 15:28:13 +0530   \n",
       "2          Fri, 19 Jul 2024 12:41:16 +0530   \n",
       "3          Mon, 15 Jul 2024 03:39:42 -0700   \n",
       "4    Wed, 17 Jul 2024 13:25:09 +0000 (UTC)   \n",
       "..                                     ...   \n",
       "480        Thu, 11 Apr 2024 10:44:37 +0530   \n",
       "481        Fri, 26 Apr 2024 09:56:41 +0530   \n",
       "482        Tue, 16 Jul 2024 15:43:58 +0000   \n",
       "483        Thu, 11 Jul 2024 19:17:12 +0000   \n",
       "484        Fri, 24 May 2024 13:44:10 +0530   \n",
       "\n",
       "                                       labels  \\\n",
       "0     Inbox,Important,Opened,Category Updates   \n",
       "1      Inbox,Important,Opened,Category Forums   \n",
       "2      Inbox,Important,Opened,Category Forums   \n",
       "3               Inbox,Category Updates,Unread   \n",
       "4                Inbox,Category Social,Unread   \n",
       "..                                        ...   \n",
       "480  Inbox,Important,Opened,Category Personal   \n",
       "481    Inbox,Important,Opened,Category Forums   \n",
       "482          Inbox,Category Promotions,Unread   \n",
       "483             Trash,Category Updates,Unread   \n",
       "484    Inbox,Important,Opened,Category Forums   \n",
       "\n",
       "                                               content     label  \n",
       "0    NDLI account verification  *Dear Vansh ,*  Tha...  optional  \n",
       "1    Dear Students,  Greetings!!!  Kindly note that...  priority  \n",
       "2    ---------- Forwarded message --------- From: S...  optional  \n",
       "3    Notification settings CSE202: Microprocessor a...  priority  \n",
       "4    View Kshitish’s profile: https://www.linkedin....  optional  \n",
       "..                                                 ...       ...  \n",
       "480  Dear Students,  An online quiz is planned for ...  priority  \n",
       "481  Regards, Radhika H. Patel, Assistant Professor...  priority  \n",
       "482  Plus, get a special offer from Google        /...  optional  \n",
       "483  ****************************************** Tak...  optional  \n",
       "484  Dear All,  Greeting of CHARUSAT Sports   Repor...  priority  \n",
       "\n",
       "[485 rows x 7 columns]>"
      ]
     },
     "execution_count": 8,
     "metadata": {},
     "output_type": "execute_result"
    }
   ],
   "source": [
    "df.head"
   ]
  },
  {
   "cell_type": "code",
   "execution_count": null,
   "id": "b9ced2eb-91e6-42ce-b4ff-01af9dea5dec",
   "metadata": {},
   "outputs": [],
   "source": []
  },
  {
   "cell_type": "code",
   "execution_count": null,
   "id": "0d77189d-44bd-4240-990a-9b4b767f9658",
   "metadata": {},
   "outputs": [],
   "source": []
  },
  {
   "cell_type": "code",
   "execution_count": null,
   "id": "92af027c-cf81-468c-a63a-5ec74d5cb932",
   "metadata": {},
   "outputs": [],
   "source": []
  },
  {
   "cell_type": "code",
   "execution_count": null,
   "id": "b89a5e85-03bf-4e5f-a27e-4b4695fca0a3",
   "metadata": {},
   "outputs": [],
   "source": []
  }
 ],
 "metadata": {
  "kernelspec": {
   "display_name": "Python 3 (ipykernel)",
   "language": "python",
   "name": "python3"
  },
  "language_info": {
   "codemirror_mode": {
    "name": "ipython",
    "version": 3
   },
   "file_extension": ".py",
   "mimetype": "text/x-python",
   "name": "python",
   "nbconvert_exporter": "python",
   "pygments_lexer": "ipython3",
   "version": "3.12.2"
  }
 },
 "nbformat": 4,
 "nbformat_minor": 5
}
