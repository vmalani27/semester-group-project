{
 "cells": [
  {
   "cell_type": "code",
   "execution_count": 6,
   "id": "b091af85-8a1f-4e53-ac62-21e4729c5454",
   "metadata": {},
   "outputs": [],
   "source": [
    "#installing dependencies\n",
    "!pip install -q transformers"
   ]
  },
  {
   "cell_type": "code",
   "execution_count": 7,
   "id": "b7b61e7d-21ba-4b09-8542-5047ff5e2ea9",
   "metadata": {},
   "outputs": [
    {
     "name": "stderr",
     "output_type": "stream",
     "text": [
      "  % Total    % Received % Xferd  Average Speed   Time    Time     Time  Current\n",
      "                                 Dload  Upload   Total   Spent    Left  Speed\n",
      "\n",
      "  0     0    0     0    0     0      0      0 --:--:-- --:--:-- --:--:--     0\n",
      "  0     0    0     0    0     0      0      0 --:--:-- --:--:-- --:--:--     0\n",
      "100    14  100    14    0     0     12      0  0:00:01  0:00:01 --:--:--    12\n"
     ]
    }
   ],
   "source": [
    "import numpy as np\n",
    "import pandas as pd\n",
    "!curl -q https://raw.githubusercontent.com/pytorch/xla/master/contrib/scripts/env-setup.py -o pytorch-xla-env-setup.py "
   ]
  },
  {
   "cell_type": "code",
   "execution_count": 8,
   "id": "122dbd7f-06d9-46cb-a408-3764a5f8a431",
   "metadata": {},
   "outputs": [
    {
     "name": "stderr",
     "output_type": "stream",
     "text": [
      "  File \"C:\\Users\\vansh\\OneDrive - Charotar University\\sem3\\Semester_Group_project\\model_training\\pytorch-xla-env-setup.py\", line 1\n",
      "    404: Not Found\n",
      "    ^^^\n",
      "SyntaxError: illegal target for annotation\n"
     ]
    }
   ],
   "source": [
    "!python pytorch-xla-env-setup.py --apt-packages libomp5 libopenblas-dev"
   ]
  }
 ],
 "metadata": {
  "kernelspec": {
   "display_name": "Python 3 (ipykernel)",
   "language": "python",
   "name": "python3"
  },
  "language_info": {
   "codemirror_mode": {
    "name": "ipython",
    "version": 3
   },
   "file_extension": ".py",
   "mimetype": "text/x-python",
   "name": "python",
   "nbconvert_exporter": "python",
   "pygments_lexer": "ipython3",
   "version": "3.11.7"
  }
 },
 "nbformat": 4,
 "nbformat_minor": 5
}
