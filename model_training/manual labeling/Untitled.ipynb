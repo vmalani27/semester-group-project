{
 "cells": [
  {
   "cell_type": "code",
   "execution_count": 1,
   "id": "34d89e2f-1d52-46a5-b42d-65c84492f07f",
   "metadata": {},
   "outputs": [
    {
     "name": "stdout",
     "output_type": "stream",
     "text": [
      "Original number of rows: 245\n",
      "New number of rows after removal: 229\n"
     ]
    }
   ],
   "source": [
    "import pandas as pd\n",
    "\n",
    "# Load your dataset (replace 'your_dataset.csv' with your actual file name)\n",
    "data = pd.read_csv('classroom_data.csv')\n",
    "\n",
    "# Display the original number of rows\n",
    "print(f'Original number of rows: {data.shape[0]}')\n",
    "\n",
    "# Remove rows where 'Course Name' is 'Certification Course : ML and Data Science'\n",
    "data_filtered = data[data['Course Name'] != 'Certification Course : ML and Data Science']\n",
    "\n",
    "# Display the new number of rows\n",
    "print(f'New number of rows after removal: {data_filtered.shape[0]}')\n",
    "\n",
    "# Save the filtered DataFrame back to a CSV file (replace 'filtered_dataset.csv' with your desired output file name)\n",
    "data_filtered.to_csv('filtered_dataset.csv', index=False)\n"
   ]
  },
  {
   "cell_type": "code",
   "execution_count": null,
   "id": "0d25d07a-e05c-43ba-b33b-42ebd4ac3255",
   "metadata": {},
   "outputs": [],
   "source": []
  }
 ],
 "metadata": {
  "kernelspec": {
   "display_name": "Python 3 (ipykernel)",
   "language": "python",
   "name": "python3"
  },
  "language_info": {
   "codemirror_mode": {
    "name": "ipython",
    "version": 3
   },
   "file_extension": ".py",
   "mimetype": "text/x-python",
   "name": "python",
   "nbconvert_exporter": "python",
   "pygments_lexer": "ipython3",
   "version": "3.12.2"
  }
 },
 "nbformat": 4,
 "nbformat_minor": 5
}
