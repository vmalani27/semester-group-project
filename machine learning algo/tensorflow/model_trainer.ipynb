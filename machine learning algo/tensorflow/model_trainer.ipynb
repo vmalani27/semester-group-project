{
 "cells": [
  {
   "cell_type": "code",
   "execution_count": 2,
   "id": "f9c6025b-5b30-444f-b897-68df634b848b",
   "metadata": {},
   "outputs": [],
   "source": [
    "import pandas as pd\n",
    "from sklearn.model_selection import train_test_split\n",
    "from sklearn.feature_extraction.text import TfidfVectorizer\n",
    "from sklearn.preprocessing import LabelBinarizer\n",
    "import numpy as np\n",
    "import tensorflow as tf\n",
    "from sklearn.metrics import classification_report, accuracy_score\n"
   ]
  },
  {
   "cell_type": "code",
   "execution_count": 3,
   "id": "b657b444-b7c1-41b9-827b-aef82b8c16b5",
   "metadata": {},
   "outputs": [],
   "source": [
    "data=pd.read_csv(\"labeled_emails_active_learning.csv\")"
   ]
  },
  {
   "cell_type": "code",
   "execution_count": 4,
   "id": "8ba6b623-2df1-45ab-aa12-8e6bb93fb51b",
   "metadata": {},
   "outputs": [
    {
     "name": "stdout",
     "output_type": "stream",
     "text": [
      "2.17.0\n"
     ]
    }
   ],
   "source": [
    "print(tf.__version__)"
   ]
  },
  {
   "cell_type": "code",
   "execution_count": 5,
   "id": "b0aa0fc7-0126-40f3-ba35-1db992c26ed5",
   "metadata": {},
   "outputs": [
    {
     "data": {
      "text/plain": [
       "<bound method NDFrame.head of                                                   from  \\\n",
       "0    NDLI Account Activation <ndl-support@iitkgp.ac...   \n",
       "1       Radhika Patel <radhikapatel.it@charusat.ac.in>   \n",
       "2       Radhika Patel <radhikapatel.it@charusat.ac.in>   \n",
       "3    \"Gaurang Patel (Classroom)\" <no-reply@classroo...   \n",
       "4             LinkedIn <messages-noreply@linkedin.com>   \n",
       "..                                                 ...   \n",
       "480  Bhargav Shobhana <bhargavshobhana.cv@charusat....   \n",
       "481     Radhika Patel <radhikapatel.it@charusat.ac.in>   \n",
       "482         \"Coursera\" <Coursera@m.learn.coursera.org>   \n",
       "483                      Devpost <support@devpost.com>   \n",
       "484    Sports CHARUSAT <sports.officer@charusat.ac.in>   \n",
       "\n",
       "                                                    to  \\\n",
       "0                     Vansh <23dcs056@charusat.edu.in>   \n",
       "1    21dcse@charusat.edu.in, 22dcse@charusat.edu.in...   \n",
       "2    23dcse@charusat.edu.in, 23dce@charusat.edu.in,...   \n",
       "3                             23dcs056@charusat.edu.in   \n",
       "4              Vansh Malani <23dcs056@charusat.edu.in>   \n",
       "..                                                 ...   \n",
       "480                                                NaN   \n",
       "481  23dcse@charusat.edu.in, 23dce@charusat.edu.in,...   \n",
       "482                           23dcs056@charusat.edu.in   \n",
       "483                           23dcs056@charusat.edu.in   \n",
       "484                             family@charusat.edu.in   \n",
       "\n",
       "                                               subject  \\\n",
       "0                       NDLI user account verification   \n",
       "1    Regarding the collection of Marksheet (Odd ter...   \n",
       "2    Fwd: Join AI master series by SkillDzire in as...   \n",
       "3    =?UTF-8?Q?New_announcement=3A_=22Dear_students...   \n",
       "4                Kshitish Bhatt commented on your post   \n",
       "..                                                 ...   \n",
       "480         Important- Online Quiz of Civil Part ME145   \n",
       "481  Fwd: Engineering Physics - 2 (PY143) || Lab Ma...   \n",
       "482  NEW! AI content added to Professional Certific...   \n",
       "483  Level Up with Devpost's Discord Leaderboard Re...   \n",
       "484  Achievement in Khel Mahakumbh State level Taek...   \n",
       "\n",
       "                                      date  \\\n",
       "0    Thu, 18 Jul 2024 16:04:06 +0000 (UTC)   \n",
       "1          Thu, 18 Jul 2024 15:28:13 +0530   \n",
       "2          Fri, 19 Jul 2024 12:41:16 +0530   \n",
       "3          Mon, 15 Jul 2024 03:39:42 -0700   \n",
       "4    Wed, 17 Jul 2024 13:25:09 +0000 (UTC)   \n",
       "..                                     ...   \n",
       "480        Thu, 11 Apr 2024 10:44:37 +0530   \n",
       "481        Fri, 26 Apr 2024 09:56:41 +0530   \n",
       "482        Tue, 16 Jul 2024 15:43:58 +0000   \n",
       "483        Thu, 11 Jul 2024 19:17:12 +0000   \n",
       "484        Fri, 24 May 2024 13:44:10 +0530   \n",
       "\n",
       "                                       labels  \\\n",
       "0     Inbox,Important,Opened,Category Updates   \n",
       "1      Inbox,Important,Opened,Category Forums   \n",
       "2      Inbox,Important,Opened,Category Forums   \n",
       "3               Inbox,Category Updates,Unread   \n",
       "4                Inbox,Category Social,Unread   \n",
       "..                                        ...   \n",
       "480  Inbox,Important,Opened,Category Personal   \n",
       "481    Inbox,Important,Opened,Category Forums   \n",
       "482          Inbox,Category Promotions,Unread   \n",
       "483             Trash,Category Updates,Unread   \n",
       "484    Inbox,Important,Opened,Category Forums   \n",
       "\n",
       "                                               content     label  \n",
       "0    NDLI account verification  *Dear Vansh ,*  Tha...  optional  \n",
       "1    Dear Students,  Greetings!!!  Kindly note that...  priority  \n",
       "2    ---------- Forwarded message --------- From: S...  optional  \n",
       "3    Notification settings CSE202: Microprocessor a...  priority  \n",
       "4    View Kshitish’s profile: https://www.linkedin....  optional  \n",
       "..                                                 ...       ...  \n",
       "480  Dear Students,  An online quiz is planned for ...  priority  \n",
       "481  Regards, Radhika H. Patel, Assistant Professor...  priority  \n",
       "482  Plus, get a special offer from Google        /...  optional  \n",
       "483  ****************************************** Tak...  optional  \n",
       "484  Dear All,  Greeting of CHARUSAT Sports   Repor...  priority  \n",
       "\n",
       "[485 rows x 7 columns]>"
      ]
     },
     "execution_count": 5,
     "metadata": {},
     "output_type": "execute_result"
    }
   ],
   "source": [
    "data.head"
   ]
  },
  {
   "cell_type": "code",
   "execution_count": 6,
   "id": "0c83205b",
   "metadata": {},
   "outputs": [],
   "source": [
    "X = data['content']  # Email content\n",
    "y = data['label']    # Priority/Optional labels"
   ]
  },
  {
   "cell_type": "code",
   "execution_count": 8,
   "id": "38ca8d60",
   "metadata": {},
   "outputs": [
    {
     "data": {
      "text/plain": [
       "0      NDLI account verification  *Dear Vansh ,*  Tha...\n",
       "1      Dear Students,  Greetings!!!  Kindly note that...\n",
       "2      ---------- Forwarded message --------- From: S...\n",
       "3      Notification settings CSE202: Microprocessor a...\n",
       "4      View Kshitish’s profile: https://www.linkedin....\n",
       "                             ...                        \n",
       "480    Dear Students,  An online quiz is planned for ...\n",
       "481    Regards, Radhika H. Patel, Assistant Professor...\n",
       "482    Plus, get a special offer from Google        /...\n",
       "483    ****************************************** Tak...\n",
       "484    Dear All,  Greeting of CHARUSAT Sports   Repor...\n",
       "Name: content, Length: 485, dtype: object"
      ]
     },
     "execution_count": 8,
     "metadata": {},
     "output_type": "execute_result"
    }
   ],
   "source": [
    "X"
   ]
  },
  {
   "cell_type": "code",
   "execution_count": 9,
   "id": "0978a694",
   "metadata": {},
   "outputs": [],
   "source": [
    "# Convert labels to binary format for classification (if multiclass, use one-hot encoding)\n",
    "lb = LabelBinarizer()\n",
    "y = lb.fit_transform(y)\n",
    "\n",
    "# Split the data into training and test sets\n",
    "X_train, X_test, y_train, y_test = train_test_split(X, y, test_size=0.2, random_state=42)\n",
    "\n",
    "# Convert text to TF-IDF features\n",
    "tfidf = TfidfVectorizer(max_features=1000)\n",
    "X_train_tfidf = tfidf.fit_transform(X_train).toarray()\n",
    "X_test_tfidf = tfidf.transform(X_test).toarray()"
   ]
  },
  {
   "cell_type": "code",
   "execution_count": 10,
   "id": "82a048a2",
   "metadata": {},
   "outputs": [
    {
     "name": "stderr",
     "output_type": "stream",
     "text": [
      "c:\\Users\\vansh\\AppData\\Local\\Programs\\Python\\Python312\\Lib\\site-packages\\keras\\src\\layers\\core\\dense.py:87: UserWarning: Do not pass an `input_shape`/`input_dim` argument to a layer. When using Sequential models, prefer using an `Input(shape)` object as the first layer in the model instead.\n",
      "  super().__init__(activity_regularizer=activity_regularizer, **kwargs)\n"
     ]
    }
   ],
   "source": [
    "\n",
    "# Define the model architecture\n",
    "model = tf.keras.Sequential([\n",
    "    tf.keras.layers.Dense(128, input_shape=(X_train_tfidf.shape[1],), activation='relu'),\n",
    "    tf.keras.layers.Dropout(0.5),\n",
    "    tf.keras.layers.Dense(64, activation='relu'),\n",
    "    tf.keras.layers.Dropout(0.5),\n",
    "    tf.keras.layers.Dense(1, activation='sigmoid')  # For binary classification\n",
    "])"
   ]
  },
  {
   "cell_type": "code",
   "execution_count": 11,
   "id": "599c5979",
   "metadata": {},
   "outputs": [
    {
     "name": "stdout",
     "output_type": "stream",
     "text": [
      "Epoch 1/10\n",
      "\u001b[1m13/13\u001b[0m \u001b[32m━━━━━━━━━━━━━━━━━━━━\u001b[0m\u001b[37m\u001b[0m \u001b[1m1s\u001b[0m 18ms/step - accuracy: 0.6328 - loss: 0.6680 - val_accuracy: 0.6907 - val_loss: 0.5870\n",
      "Epoch 2/10\n",
      "\u001b[1m13/13\u001b[0m \u001b[32m━━━━━━━━━━━━━━━━━━━━\u001b[0m\u001b[37m\u001b[0m \u001b[1m0s\u001b[0m 5ms/step - accuracy: 0.7343 - loss: 0.5242 - val_accuracy: 0.7113 - val_loss: 0.4810\n",
      "Epoch 3/10\n",
      "\u001b[1m13/13\u001b[0m \u001b[32m━━━━━━━━━━━━━━━━━━━━\u001b[0m\u001b[37m\u001b[0m \u001b[1m0s\u001b[0m 5ms/step - accuracy: 0.7719 - loss: 0.4269 - val_accuracy: 0.7423 - val_loss: 0.3818\n",
      "Epoch 4/10\n",
      "\u001b[1m13/13\u001b[0m \u001b[32m━━━━━━━━━━━━━━━━━━━━\u001b[0m\u001b[37m\u001b[0m \u001b[1m0s\u001b[0m 5ms/step - accuracy: 0.8625 - loss: 0.3348 - val_accuracy: 0.9381 - val_loss: 0.2748\n",
      "Epoch 5/10\n",
      "\u001b[1m13/13\u001b[0m \u001b[32m━━━━━━━━━━━━━━━━━━━━\u001b[0m\u001b[37m\u001b[0m \u001b[1m0s\u001b[0m 5ms/step - accuracy: 0.9486 - loss: 0.2708 - val_accuracy: 0.9485 - val_loss: 0.1935\n",
      "Epoch 6/10\n",
      "\u001b[1m13/13\u001b[0m \u001b[32m━━━━━━━━━━━━━━━━━━━━\u001b[0m\u001b[37m\u001b[0m \u001b[1m0s\u001b[0m 8ms/step - accuracy: 0.9774 - loss: 0.1622 - val_accuracy: 0.9588 - val_loss: 0.1265\n",
      "Epoch 7/10\n",
      "\u001b[1m13/13\u001b[0m \u001b[32m━━━━━━━━━━━━━━━━━━━━\u001b[0m\u001b[37m\u001b[0m \u001b[1m0s\u001b[0m 6ms/step - accuracy: 0.9764 - loss: 0.1282 - val_accuracy: 0.9794 - val_loss: 0.0865\n",
      "Epoch 8/10\n",
      "\u001b[1m13/13\u001b[0m \u001b[32m━━━━━━━━━━━━━━━━━━━━\u001b[0m\u001b[37m\u001b[0m \u001b[1m0s\u001b[0m 6ms/step - accuracy: 0.9857 - loss: 0.1006 - val_accuracy: 0.9794 - val_loss: 0.0661\n",
      "Epoch 9/10\n",
      "\u001b[1m13/13\u001b[0m \u001b[32m━━━━━━━━━━━━━━━━━━━━\u001b[0m\u001b[37m\u001b[0m \u001b[1m0s\u001b[0m 6ms/step - accuracy: 0.9802 - loss: 0.0833 - val_accuracy: 0.9897 - val_loss: 0.0569\n",
      "Epoch 10/10\n",
      "\u001b[1m13/13\u001b[0m \u001b[32m━━━━━━━━━━━━━━━━━━━━\u001b[0m\u001b[37m\u001b[0m \u001b[1m0s\u001b[0m 6ms/step - accuracy: 0.9878 - loss: 0.0714 - val_accuracy: 0.9897 - val_loss: 0.0490\n",
      "\u001b[1m4/4\u001b[0m \u001b[32m━━━━━━━━━━━━━━━━━━━━\u001b[0m\u001b[37m\u001b[0m \u001b[1m0s\u001b[0m 13ms/step\n"
     ]
    }
   ],
   "source": [
    "\n",
    "# Compile the model\n",
    "model.compile(optimizer='adam', loss='binary_crossentropy', metrics=['accuracy'])\n",
    "\n",
    "# Train the model\n",
    "history = model.fit(X_train_tfidf, y_train, epochs=10, batch_size=32, validation_data=(X_test_tfidf, y_test))\n",
    "\n",
    "# Make predictions on the test set\n",
    "y_pred_prob = model.predict(X_test_tfidf)\n",
    "y_pred = (y_pred_prob > 0.5).astype(int)"
   ]
  },
  {
   "cell_type": "code",
   "execution_count": 12,
   "id": "806788ed",
   "metadata": {},
   "outputs": [
    {
     "name": "stdout",
     "output_type": "stream",
     "text": [
      "Accuracy: 0.9896907216494846\n",
      "Classification Report:\n",
      "              precision    recall  f1-score   support\n",
      "\n",
      "           0       0.97      1.00      0.99        36\n",
      "           1       1.00      0.98      0.99        61\n",
      "\n",
      "    accuracy                           0.99        97\n",
      "   macro avg       0.99      0.99      0.99        97\n",
      "weighted avg       0.99      0.99      0.99        97\n",
      "\n"
     ]
    }
   ],
   "source": [
    "\n",
    "# Evaluate the model\n",
    "print(f\"Accuracy: {accuracy_score(y_test, y_pred)}\")\n",
    "print(\"Classification Report:\")\n",
    "print(classification_report(y_test, y_pred))\n"
   ]
  },
  {
   "cell_type": "code",
   "execution_count": 13,
   "id": "24c76704",
   "metadata": {},
   "outputs": [
    {
     "name": "stdout",
     "output_type": "stream",
     "text": [
      "INFO:tensorflow:Assets written to: C:\\Users\\vansh\\AppData\\Local\\Temp\\tmpwdrmx12d\\assets\n"
     ]
    },
    {
     "name": "stderr",
     "output_type": "stream",
     "text": [
      "INFO:tensorflow:Assets written to: C:\\Users\\vansh\\AppData\\Local\\Temp\\tmpwdrmx12d\\assets\n"
     ]
    },
    {
     "name": "stdout",
     "output_type": "stream",
     "text": [
      "Saved artifact at 'C:\\Users\\vansh\\AppData\\Local\\Temp\\tmpwdrmx12d'. The following endpoints are available:\n",
      "\n",
      "* Endpoint 'serve'\n",
      "  args_0 (POSITIONAL_ONLY): TensorSpec(shape=(None, 1000), dtype=tf.float32, name='keras_tensor')\n",
      "Output Type:\n",
      "  TensorSpec(shape=(None, 1), dtype=tf.float32, name=None)\n",
      "Captures:\n",
      "  2343185835088: TensorSpec(shape=(), dtype=tf.resource, name=None)\n",
      "  2343185834704: TensorSpec(shape=(), dtype=tf.resource, name=None)\n",
      "  2343185835664: TensorSpec(shape=(), dtype=tf.resource, name=None)\n",
      "  2343185835280: TensorSpec(shape=(), dtype=tf.resource, name=None)\n",
      "  2343185836432: TensorSpec(shape=(), dtype=tf.resource, name=None)\n",
      "  2343185837584: TensorSpec(shape=(), dtype=tf.resource, name=None)\n",
      "TensorFlow Lite model exported successfully!\n"
     ]
    }
   ],
   "source": [
    "# Convert the model to TensorFlow Lite format\n",
    "converter = tf.lite.TFLiteConverter.from_keras_model(model)\n",
    "tflite_model = converter.convert()\n",
    "\n",
    "# Save the converted model to a file\n",
    "with open('model.tflite', 'wb') as f:\n",
    "    f.write(tflite_model)\n",
    "\n",
    "print(\"TensorFlow Lite model exported successfully!\")\n"
   ]
  },
  {
   "cell_type": "code",
   "execution_count": 1,
   "id": "d6e860b3",
   "metadata": {},
   "outputs": [
    {
     "ename": "NameError",
     "evalue": "name 'tfidf' is not defined",
     "output_type": "error",
     "traceback": [
      "\u001b[1;31m---------------------------------------------------------------------------\u001b[0m",
      "\u001b[1;31mNameError\u001b[0m                                 Traceback (most recent call last)",
      "Cell \u001b[1;32mIn[1], line 4\u001b[0m\n\u001b[0;32m      1\u001b[0m \u001b[38;5;28;01mimport\u001b[39;00m \u001b[38;5;21;01mjoblib\u001b[39;00m\n\u001b[0;32m      3\u001b[0m \u001b[38;5;66;03m# Save the TF-IDF vectorizer to a file\u001b[39;00m\n\u001b[1;32m----> 4\u001b[0m joblib\u001b[38;5;241m.\u001b[39mdump(\u001b[43mtfidf\u001b[49m, \u001b[38;5;124m'\u001b[39m\u001b[38;5;124mtfidf_vectorizer.pkl\u001b[39m\u001b[38;5;124m'\u001b[39m)\n",
      "\u001b[1;31mNameError\u001b[0m: name 'tfidf' is not defined"
     ]
    }
   ],
   "source": [
    "import joblib\n",
    "\n",
    "# Save the TF-IDF vectorizer to a file\n",
    "joblib.dump(tfidf, 'tfidf_vectorizer.pkl')\n"
   ]
  }
 ],
 "metadata": {
  "kernelspec": {
   "display_name": "Python 3 (ipykernel)",
   "language": "python",
   "name": "python3"
  },
  "language_info": {
   "codemirror_mode": {
    "name": "ipython",
    "version": 3
   },
   "file_extension": ".py",
   "mimetype": "text/x-python",
   "name": "python",
   "nbconvert_exporter": "python",
   "pygments_lexer": "ipython3",
   "version": "3.12.2"
  }
 },
 "nbformat": 4,
 "nbformat_minor": 5
}
